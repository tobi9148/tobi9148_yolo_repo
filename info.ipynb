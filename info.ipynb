{
 "cells": [
  {
   "cell_type": "markdown",
   "metadata": {},
   "source": [
    "I dette projekt er der blevet lavet en AI som kan nogle lunde kende forskellen på de forskellige sider på en terning.\n",
    "Den laver en kasse rundt omkring terningen og viser en kategorisering af terningen alt efter om det er en 1'er, 2'er, 3'er, osv osv. Ud over det vises den totale sum af alle terningern som AI'en kan se, oppe i midten af skærmen.\n",
    "AI'en bruger det webcam som er tilsluttet til computeren. Hvis programmet køres på en bærbar bruges det indbyggede kamera. Hvis andet kamera skal bruges skal du gå ind og deaktivere det oprindelige kamera.\n",
    "\n",
    "Måden AI'en er blevet trænet på er via \"supervised learning\", hvilket betyder at det er et menneske der selv har fortalt AI'en hvad det er at den kigger på. Der findes også \"un-supervised learning\" hvor at AI'en selv finder ud af hvad det er at den kiger på.\n",
    "\n",
    "------------\n",
    "\n",
    "Programmet kræver også at opencv-python og ultralytics er downloaded. Hvis disse ikke er downloaded kan de downloades ved at åbne konsollen (skriv \"cmd\" eller \"kommandopromt\" i søgefæltet). Herefter åbner du der hvor du har Python downloaded. Dette kan du tjekke ved at skrive \"python -V\". Det er vigtigt at skrive stort V! Derefter kan du tjekke om du har pip installeret. Dette kan du gøre ved at skrive \"pip -V\".\n",
    "\n",
    "Hvis begge er installeret og du nu vil downloade ultralytics og opencv, skal du blot skrive:\n",
    "\n",
    ">>> pip install opencv-contrib-python\n",
    "\n",
    ">>> pip install ultralytics\n",
    "\n",
    "------------\n",
    "\n",
    "Selve programmet er ikke alt for slemt at forstå helt overordnet. \n",
    "\n",
    "## run_program.py\n",
    "Der er filen \"run_rpogram.py\". Dette program er det som kører selve programet og åbner for kameraet. Det er også her hvor at kasserne som der ses rundt om terningerne bliver lavet og teksten til den totale sum.\n",
    "\n",
    "## dice.yaml\n",
    "Denne fil er med til at træne vores YOLO model. Den siger hvor vores train og val filer er, hvor mange klasser der er og hvad de klasser skal hedde.\n",
    "\n",
    "## 1-train_program.py, samt yolov8n.pt & yolov8m.pt\n",
    "I denne fil bliver selve vores YOLO model trænet. Her kan man vælge om man vil bruge filen \"yolov8n.pt\", også kaldet YOLO v8 nano, eller \"yolov8m.pt\" hvilket er kaldet YOLO v8 medium. Medium er væsentlig langsommere end nano, kræver meget mere kraft fra computeren men laver væsentlig bedre modeller end nano udgaven. Nano er meget hurtigere, kræver ikke så meget fra computeren men den endelige model er ikke nær så god som med medium.\n",
    "\n",
    "## datasets og runs\n",
    "I filen datasets er det der hvor vi har alt vores data som vi træner modellen på. Inde i datasets er der to mapper, images og labels. Yderligere i de to mapper er der to mapper mere, som begge hedder train og val. Hele grunden til at der to mapper, en som hedder train og en der hedder val, er fordi at train er selve den data som modellen bliver trænet på, og val er de validerings data som der bliver brugt til at finjustere modellen under træningen. Grunden til at vi har en til både labels og images, er fordi at i labels fortæller vi koorinaterne til der hvor at kerningerne er inde i images.\n",
    "\n",
    "## runs\n",
    "I runs folderen er det der hvor at vores model kommer ud når det er at den er færdig med at træne. Hver gang at modellen er færdig med at træne kommer der en ny mappe i folderen \"runs\", som fpr navnet \"train\", efterfuldt af det nummer hvis gang det er, fx \"train22\" er 22'ende gang at modellen er blebvet trænet.\n",
    "\n",
    "## not in use\n",
    "Det her her hvor tidligere filer som ikke er blevet slette opholder sig. Der er ingen pointe til dem, andet end HVIS projektet skulle laves om på måder som det tidligere var, men alt i alt har disse filer intet med projektet at gøre længere, de eksisterer bare.\n",
    "\n",
    "## Yolo.code-workspace\n",
    "Dette er bare et workspace.\n"
   ]
  }
 ],
 "metadata": {
  "language_info": {
   "name": "python"
  }
 },
 "nbformat": 4,
 "nbformat_minor": 2
}
